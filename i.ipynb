{
 "cells": [
  {
   "cell_type": "markdown",
   "metadata": {},
   "source": [
    "1.  What is Python?<br>\n",
    "Python is a high-level, interpreted, general-purpose programming language known for readable syntax.\n",
    "\n",
    "Advantages: simple & readable, large standard library, dynamic typing, cross-platform, strong community, many 3rd-party packages (NumPy, Pandas, Flask, Django), good for scripting, data science, web dev, automation"
   ]
  },
  {
   "cell_type": "markdown",
   "metadata": {},
   "source": [
    "2.  What is PEP 8?<br>\n",
    "PEP 8 is the Python Enhancement Proposal that provides style guidelines (indentation, naming, max line length, imports order, etc.) to make code consistent and readable."
   ]
  },
  {
   "cell_type": "markdown",
   "metadata": {},
   "source": [
    "3.  What is pickling and unpickling?<br>\n",
    "Pickling: serializing Python objects to a byte stream (using pickle.dump).<br>\n",
    "Unpickling: deserializing byte stream back to Python objects (pickle.load)."
   ]
  },
  {
   "cell_type": "markdown",
   "metadata": {},
   "source": [
    "4. How is Python an interpreted language?<br>\n",
    "Python source is executed by an interpreter (CPython compiles to bytecode .pyc then the VM executes it). Code is not compiled to native machine code ahead-of-time by default. "
   ]
  },
  {
   "cell_type": "markdown",
   "metadata": {},
   "source": [
    "5. Difference between list vs tuple vs set vs dictionary?\n",
    "\n",
    "list: ordered, mutable, allows duplicates, indexed.\n",
    "\n",
    "tuple: ordered, immutable, allows duplicates, indexed.\n",
    "\n",
    "set: unordered, mutable, no duplicates, no indexing.\n",
    "\n",
    "dict: key→value mapping, unordered (in older versions; since Python 3.7 insertion-ordered), keys unique."
   ]
  },
  {
   "cell_type": "markdown",
   "metadata": {},
   "source": [
    "6. What are variables?<br>\n",
    "Names that reference objects in memory. Assignment x = 5 binds name x to object 5."
   ]
  },
  {
   "cell_type": "markdown",
   "metadata": {},
   "source": [
    "7. What is dynamically typed language?<br>\n",
    "Type checking occurs at runtime; variables don’t have fixed types — the object has a type."
   ]
  },
  {
   "cell_type": "markdown",
   "metadata": {},
   "source": [
    "8. Static vs dynamic (typing).\n",
    "\n",
    "Static: types checked at compile-time (e.g., Java).\n",
    "\n",
    "Dynamic: types checked at runtime (e.g., Python)."
   ]
  },
  {
   "cell_type": "markdown",
   "metadata": {},
   "source": [
    "9. What is scope in Python?<br>\n",
    "Region where a name is visible. LEGB rule: Local, Enclosing, Global, Built-in."
   ]
  },
  {
   "cell_type": "markdown",
   "metadata": {},
   "source": [
    "10. What are all the data types in Python?<br>\n",
    "Common: int, float, complex, bool, str, list, tuple, set, frozenset, dict, bytes, bytearray, NoneType. Plus user-defined classes."
   ]
  },
  {
   "cell_type": "markdown",
   "metadata": {},
   "source": [
    "11. How to check the data type?<br>\n",
    "Use type(obj) or isinstance(obj, SomeType)."
   ]
  },
  {
   "cell_type": "markdown",
   "metadata": {},
   "source": [
    "12. What is use of self and what is __init__?\n",
    "\n",
    "self is the instance reference used in instance methods to access attributes.\n",
    "\n",
    "__init__ is the instance initializer (constructor) called when an instance is created."
   ]
  },
  {
   "cell_type": "markdown",
   "metadata": {},
   "source": [
    "13. What is break vs continue?\n",
    "\n",
    "break: exit the loop completely.\n",
    "\n",
    "continue: skip current iteration and continue with next."
   ]
  },
  {
   "cell_type": "markdown",
   "metadata": {},
   "source": [
    "14. What are all the List methods in python?<br>\n",
    "Key ones: append, extend, insert, remove, pop, clear, index, count, sort, reverse, copy."
   ]
  },
  {
   "cell_type": "markdown",
   "metadata": {},
   "source": [
    "15. What is the difference between is and == in Python?\n",
    "\n",
    "== compares values (calls __eq__).\n",
    "\n",
    "is checks identity (same object in memory)."
   ]
  },
  {
   "cell_type": "markdown",
   "metadata": {},
   "source": [
    "16. What is docstring?<br>\n",
    "A string literal placed right after function/class/module definition describing it. Access via __doc__ or help()."
   ]
  },
  {
   "cell_type": "markdown",
   "metadata": {},
   "source": [
    "17. What is slicing?<br>\n",
    "Extracting subsequence: seq[start:stop:step]. Default start=0, stop=len, step=1."
   ]
  },
  {
   "cell_type": "markdown",
   "metadata": {},
   "source": [
    "18. What are python namespaces?<br>\n",
    "Mapping of names to objects. Examples: local, global, built-in namespaces."
   ]
  },
  {
   "cell_type": "markdown",
   "metadata": {},
   "source": [
    "19. What is function? Syntax and how to pass parameters and arguments.<br>\n",
    "\n"
   ]
  },
  {
   "cell_type": "code",
   "execution_count": 4,
   "metadata": {},
   "outputs": [],
   "source": [
    "def func(a, b=2, *args, **kwargs):\n",
    "    \"\"\"doc\"\"\"\n",
    "    return a + b\n",
    "# Parameters: positional, default, var-positional (*args), var-keyword (**kwargs), keyword-only. Call by passing arguments positionally or by name."
   ]
  },
  {
   "cell_type": "markdown",
   "metadata": {},
   "source": [
    "20. What is decorators in python?<br>\n",
    "Functions that modify other functions or methods; syntactic sugar @decorator. They receive a function and return a wrapped function."
   ]
  },
  {
   "cell_type": "markdown",
   "metadata": {},
   "source": [
    "21. Difference b/w iterators vs generators?\n",
    "\n",
    "Iterator: any object implementing __iter__() and __next__().\n",
    "\n",
    "Generator: special iterator created by a function with yield (or generator expression). Generators are easier to write and lazy."
   ]
  },
  {
   "cell_type": "markdown",
   "metadata": {},
   "source": [
    "22. What is exception handling? What are the modes?<br>\n",
    "Use try/except to catch exceptions, else to run if no exception, finally to run always. You can catch specific exceptions or use except Exception as e."
   ]
  },
  {
   "cell_type": "markdown",
   "metadata": {},
   "source": [
    "23. What is file handling? What is try, except, else, finally?<br>\n",
    "File handling: open/read/write/close using open() and file methods or with context manager (recommended). try to attempt, except to handle errors, else runs if no exception, finally always runs (useful to close files if not using with)."
   ]
  },
  {
   "cell_type": "markdown",
   "metadata": {},
   "source": [
    "24. How are arguments passed — by value or by reference?<br>\n",
    "Python uses call by object reference (objects are passed by reference; assignment in function rebinds local names). Mutable objects can be mutated inside functions."
   ]
  },
  {
   "cell_type": "markdown",
   "metadata": {},
   "source": [
    "25. What is lambda in Python?<br>\n",
    "Anonymous function expression: lambda x, y: x + y. Useful for small one-liners."
   ]
  },
  {
   "cell_type": "markdown",
   "metadata": {},
   "source": [
    "26. What is pass in Python?<br>\n",
    "No-op statement; placeholder where a statement is syntactically required."
   ]
  },
  {
   "cell_type": "markdown",
   "metadata": {},
   "source": [
    "27. What is negative index in Python?<br>\n",
    "Indexing from end: -1 last item, -2 second last, etc."
   ]
  },
  {
   "cell_type": "markdown",
   "metadata": {},
   "source": [
    "28. What is the difference between xrange and range?<br>\n",
    "In Python 2: range returns a list, xrange returns a generator-like object (lazy). In Python 3, range is lazy and xrange doesn’t exist."
   ]
  },
  {
   "cell_type": "markdown",
   "metadata": {},
   "source": [
    "29. Difference b/w global variable vs local variable.\n",
    "\n",
    "Local: defined inside function, scope local.\n",
    "\n",
    "Global: defined at module level; accessible everywhere in the module (use global keyword to assign inside function)."
   ]
  },
  {
   "cell_type": "markdown",
   "metadata": {},
   "source": [
    "30. Explain how can you generate random numbers in Python?<br>\n",
    "Use random module: random.random() (0–1), random.randint(a,b), random.choice(list), random.sample, or secrets for cryptographic randomness."
   ]
  },
  {
   "cell_type": "markdown",
   "metadata": {},
   "source": [
    "31. What is split() vs join()?\n",
    "\n",
    "split() (string): splits a string into list by delimiter: \"a b\".split() → ['a', 'b'].\n",
    "\n",
    "join() (string): concatenates iterable of strings: \" \".join(['a','b']) → \"a b\"."
   ]
  },
  {
   "cell_type": "markdown",
   "metadata": {},
   "source": [
    "32. Explain OOPs with real-time examples.<br>\n",
    "OOP pillars: encapsulation (object keeps data & methods), inheritance (child class inherits parent), polymorphism (same interface different implementation), abstraction (expose only needed details). Example: Car class with methods start(), stop(), subclass ElectricCar."
   ]
  },
  {
   "cell_type": "markdown",
   "metadata": {},
   "source": [
    "33. What is super keyword?<br>\n",
    "Used to call parent class methods (super().__init__()), especially in multiple inheritance contexts."
   ]
  },
  {
   "cell_type": "markdown",
   "metadata": {},
   "source": [
    "34. What is loop? Types.<br>\n",
    "Loop repeats code: for loop (iterate over iterable), while loop (condition-controlled). break and continue control flow."
   ]
  },
  {
   "cell_type": "markdown",
   "metadata": {},
   "source": [
    "35. What is operators? Types.<br>\n",
    "Operators: arithmetic (+ - * / %), comparison (== != < >), logical (and or not), bitwise (| & ^ << >>), assignment (= +=), membership (in, not in), identity (is, is not)."
   ]
  },
  {
   "cell_type": "markdown",
   "metadata": {},
   "source": [
    "36. What is input()?<br>\n",
    "Reads a line from standard input as a string. Use int(input()) to convert to integer."
   ]
  },
  {
   "cell_type": "markdown",
   "metadata": {},
   "source": [
    "37.What is map vs filter vs reduce?\n",
    "\n",
    "map(func, iterable): applies func to every item, returns iterator.\n",
    "\n",
    "filter(func, iterable): keeps items where func(item) is true.\n",
    "\n",
    "reduce(func, iterable): cumulatively applies func to items to reduce to single value (in functools)."
   ]
  },
  {
   "cell_type": "markdown",
   "metadata": {},
   "source": [
    "38. What is callback()?<br>\n",
    "Function passed as argument to another function that gets called later (e.g., func(callback))."
   ]
  },
  {
   "cell_type": "markdown",
   "metadata": {},
   "source": [
    "39. What is regular expression? search vs findall.<br>\n",
    "Regex: pattern matching using re module. re.search() finds first match anywhere; re.findall() returns list of all non-overlapping matches."
   ]
  },
  {
   "cell_type": "markdown",
   "metadata": {},
   "source": [
    "40.What are all the quantify operators is there?<br>\n",
    "Probably means quantifiers in regex: * (0+), + (1+), ? (0 or 1), {m}, {m,n}."
   ]
  },
  {
   "cell_type": "markdown",
   "metadata": {},
   "source": [
    "41. What is thread?<br>\n",
    "Lightweight sequence of execution within a process. Python threads created via threading module — note Python’s GIL limits true parallelism for CPU-bound tasks. Use multiprocessing for parallel CPU-bound work."
   ]
  },
  {
   "cell_type": "markdown",
   "metadata": {},
   "source": [
    "42. What is a Python Decorator?<br>\n",
    "(repeat of Q20) A higher-order function that takes a function and returns a modified function; used with @decorator."
   ]
  },
  {
   "cell_type": "markdown",
   "metadata": {},
   "source": [
    "43. What is the use of Generator in Python?<br>\n",
    "Memory-efficient way to produce sequence lazily using yield. Useful for large data or streaming."
   ]
  },
  {
   "cell_type": "markdown",
   "metadata": {},
   "source": [
    "44. What is conditional statements and explain.<br>\n",
    "if, elif, else control branching. Example:"
   ]
  },
  {
   "cell_type": "markdown",
   "metadata": {},
   "source": [
    "45. What is assert statement?<br>\n",
    "assert condition, \"msg\" — raises AssertionError if condition is False. Used for debugging and internal checks."
   ]
  },
  {
   "cell_type": "markdown",
   "metadata": {},
   "source": [
    "46. What is callback function?<br>\n",
    "(repeat of 38) A function passed as argument to another to be invoked later."
   ]
  },
  {
   "cell_type": "markdown",
   "metadata": {},
   "source": [
    "47. Explain string methods?<br>\n",
    "Common: upper(), lower(), strip(), lstrip(), rstrip(), split(), join(), replace(), find(), rfind(), startswith(), endswith(), format() / f-strings, encode(), decode() (bytes <-> str)."
   ]
  },
  {
   "cell_type": "markdown",
   "metadata": {},
   "source": [
    "48. What is collections and how many types are there?<br>\n",
    "collections is a standard module with specialized container datatypes: namedtuple, deque, Counter, OrderedDict (older versions; insertion ordered dict now builtin), defaultdict, ChainMap, UserDict, etc."
   ]
  },
  {
   "cell_type": "markdown",
   "metadata": {},
   "source": [
    "49. What is the difference between an Iterator and Iterable in Python?\n",
    "\n",
    "Iterable: object you can iterate over (implements __iter__() or sequence protocol).\n",
    "\n",
    "Iterator: object with __next__() and __iter__() returning itself. iter(iterable) gives an iterator."
   ]
  },
  {
   "cell_type": "markdown",
   "metadata": {},
   "source": [
    "50. How can we create a dictionary with ordered set of keys in Python? <br>\n",
    "Since Python 3.7 dict preserves insertion order. For older versions use collections.OrderedDict. Example:"
   ]
  },
  {
   "cell_type": "code",
   "execution_count": 5,
   "metadata": {},
   "outputs": [],
   "source": [
    "from collections import OrderedDict\n",
    "d = OrderedDict([('a',1),('b',2)])\n"
   ]
  },
  {
   "cell_type": "code",
   "execution_count": 1,
   "metadata": {},
   "outputs": [
    {
     "name": "stdout",
     "output_type": "stream",
     "text": [
      "{6}\n"
     ]
    }
   ],
   "source": [
    "a={1,2,3,4,5,6}\n",
    "b={1,2,3,4,5}\n",
    "c=a.symmetric_difference(b)\n",
    "print(c)"
   ]
  },
  {
   "cell_type": "code",
   "execution_count": 2,
   "metadata": {},
   "outputs": [
    {
     "name": "stdout",
     "output_type": "stream",
     "text": [
      "The factorial of a number 4 is factorial\n"
     ]
    }
   ],
   "source": [
    "num=int(input(\"Enter a number\"))\n",
    "factorial=1\n",
    "for i in range(1,num+1):\n",
    "    factorial = factorial * i \n",
    "print(\"The factorial of a number\",num,\"is\", \"factorial\")"
   ]
  },
  {
   "cell_type": "code",
   "execution_count": 3,
   "metadata": {},
   "outputs": [
    {
     "data": {
      "text/plain": [
       "43"
      ]
     },
     "execution_count": 3,
     "metadata": {},
     "output_type": "execute_result"
    }
   ],
   "source": [
    "#Guessing gane\n",
    "import random\n",
    "random.randint(1,100)"
   ]
  },
  {
   "cell_type": "code",
   "execution_count": 14,
   "metadata": {},
   "outputs": [
    {
     "name": "stdout",
     "output_type": "stream",
     "text": [
      "Ni guess thapu bro!\n",
      "koncham china number kottu bro!\n",
      "Ni guess thapu bro!\n",
      "koncham china number kottu bro!\n",
      "Ni guess thapu bro!\n",
      "koncham china number kottu bro!\n",
      "Ni guess thapu bro!\n",
      "koncham china number kottu bro!\n",
      "Ni guess thapu bro!\n",
      "koncham china number kottu bro!\n",
      "Ni guess thapu bro!\n",
      "Koncham peddadhi kottu bro\n",
      "Ni guess thapu bro!\n",
      "Koncham peddadhi kottu bro\n",
      "Ni guess thapu bro!\n",
      "koncham china number kottu bro!\n",
      "Ni guess thapu bro!\n",
      "koncham china number kottu bro!\n",
      "your guess is 14\n",
      "YOu took  10 attempts to guess\n"
     ]
    }
   ],
   "source": [
    "jackpot = random.randint(1,100)\n",
    "guess = int(input(\"Guess chai bro\"))\n",
    "counter = 1\n",
    "while guess != jackpot:\n",
    "    print(\"Ni guess thapu bro!\")\n",
    "    if guess > jackpot :\n",
    "        print(\"koncham china number kottu bro!\")\n",
    "    if guess < jackpot :\n",
    "        print(\"Koncham peddadhi kottu bro\")\n",
    "            \n",
    "    guess = int(input(\"Guess chai bro\"))\n",
    "    counter +=1\n",
    "else:\n",
    "    print(\"your guess is\",guess)\n",
    "    print(\"YOu took \",counter,\"attempts to guess\")\n",
    "            "
   ]
  },
  {
   "cell_type": "code",
   "execution_count": 17,
   "metadata": {},
   "outputs": [
    {
     "name": "stdout",
     "output_type": "stream",
     "text": [
      "Ni guess thapu bro!\n",
      "Koncham peddadhi kottu bro\n",
      "Ni guess thapu bro!\n",
      "Koncham peddadhi kottu bro\n",
      "Ni guess thapu bro!\n",
      "Koncham peddadhi kottu bro\n",
      "Ni guess thapu bro!\n",
      "Koncham peddadhi kottu bro\n",
      "Ni guess thapu bro!\n",
      "Koncham peddadhi kottu bro\n",
      "Ni guess thapu bro!\n",
      "Koncham peddadhi kottu bro\n",
      "Ni guess thapu bro!\n",
      "koncham china number kottu bro!\n",
      "Ni guess thapu bro!\n",
      "koncham china number kottu bro!\n",
      "Ni guess thapu bro!\n",
      "koncham china number kottu bro!\n",
      "your guess is 93\n",
      "YOu took  10 attempts to guess\n"
     ]
    }
   ],
   "source": [
    "jackpot = random.randint(1,100)\n",
    "num=int(input(\"Guess chai bro\"))\n",
    "counter = 1\n",
    "while guess != jackpot:\n",
    "    print(\"Ni guess thapu bro!\")\n",
    "    if guess > jackpot :\n",
    "        print(\"koncham china number kottu bro!\")\n",
    "    if guess < jackpot :\n",
    "        print(\"Koncham peddadhi kottu bro\")\n",
    "            \n",
    "    guess = int(input(\"Guess chai bro\"))\n",
    "    counter +=1\n",
    "else:\n",
    "    print(\"your guess is\",guess)\n",
    "    print(\"YOu took \",counter,\"attempts to guess\")\n",
    "            "
   ]
  },
  {
   "cell_type": "markdown",
   "metadata": {},
   "source": [
    "1. Square shape — print n x n square of *."
   ]
  },
  {
   "cell_type": "code",
   "execution_count": 6,
   "metadata": {},
   "outputs": [
    {
     "name": "stdout",
     "output_type": "stream",
     "text": [
      "* * * * \n",
      "* * * * \n",
      "* * * * \n",
      "* * * * \n"
     ]
    }
   ],
   "source": [
    "\n",
    "def print_square(n):\n",
    "    for _ in range(n):\n",
    "        print('* ' * n)\n",
    "\n",
    "\n",
    "print_square(4)\n",
    "\n",
    "\n"
   ]
  },
  {
   "cell_type": "markdown",
   "metadata": {},
   "source": [
    "2. Left angle triangle"
   ]
  },
  {
   "cell_type": "code",
   "execution_count": 5,
   "metadata": {},
   "outputs": [
    {
     "name": "stdout",
     "output_type": "stream",
     "text": [
      "* \n",
      "* * \n",
      "* * * \n",
      "* * * * \n"
     ]
    }
   ],
   "source": [
    "def left_triangle(n):\n",
    "    for i in range(1, n+1):\n",
    "        print('* ' * i)\n",
    "left_triangle(4)\n",
    "\n",
    "\n"
   ]
  },
  {
   "cell_type": "markdown",
   "metadata": {},
   "source": [
    "3. Right angle triangle (right-aligned)"
   ]
  },
  {
   "cell_type": "code",
   "execution_count": 9,
   "metadata": {},
   "outputs": [
    {
     "name": "stdout",
     "output_type": "stream",
     "text": [
      "      * \n",
      "    * * \n",
      "  * * * \n",
      "* * * * \n"
     ]
    }
   ],
   "source": [
    "def right_triangle(n):\n",
    "    for i in range(1, n+1):\n",
    "        print('  ' * (n - i) + '* ' * i)\n",
    "right_triangle(4)\n",
    "\n"
   ]
  },
  {
   "cell_type": "markdown",
   "metadata": {},
   "source": [
    "4. Triangle shape (isosceles)"
   ]
  },
  {
   "cell_type": "code",
   "execution_count": 10,
   "metadata": {},
   "outputs": [
    {
     "name": "stdout",
     "output_type": "stream",
     "text": [
      "   * \n",
      "  * * \n",
      " * * * \n",
      "* * * * \n"
     ]
    }
   ],
   "source": [
    "def isosceles_triangle(n):\n",
    "    for i in range(n):\n",
    "        print(' ' * (n - i - 1) + '* ' * (i + 1))\n",
    "\n",
    "isosceles_triangle(4)\n"
   ]
  },
  {
   "cell_type": "markdown",
   "metadata": {},
   "source": [
    "5. Reverse triangle (upside-down left triangle)"
   ]
  },
  {
   "cell_type": "code",
   "execution_count": 11,
   "metadata": {},
   "outputs": [
    {
     "name": "stdout",
     "output_type": "stream",
     "text": [
      "* * * * \n",
      "* * * \n",
      "* * \n",
      "* \n"
     ]
    }
   ],
   "source": [
    "def reverse_triangle(n):\n",
    "    for i in range(n, 0, -1):\n",
    "        print('* ' * i)\n",
    "\n",
    "reverse_triangle(4)\n"
   ]
  },
  {
   "cell_type": "markdown",
   "metadata": {},
   "source": [
    "6. In given list find max and minimum values using loops"
   ]
  },
  {
   "cell_type": "code",
   "execution_count": 12,
   "metadata": {},
   "outputs": [
    {
     "data": {
      "text/plain": [
       "(1, 4)"
      ]
     },
     "execution_count": 12,
     "metadata": {},
     "output_type": "execute_result"
    }
   ],
   "source": [
    "def min_max(lst):\n",
    "    if not lst:\n",
    "        return None, None\n",
    "    mn = mx = lst[0]\n",
    "    for x in lst[1:]:\n",
    "        if x < mn: mn = x\n",
    "        if x > mx: mx = x\n",
    "    return mn, mx\n",
    "\n",
    "min_max([3,1,4]) "
   ]
  },
  {
   "cell_type": "markdown",
   "metadata": {},
   "source": [
    "7. Sum of given list using loops"
   ]
  },
  {
   "cell_type": "code",
   "execution_count": 14,
   "metadata": {},
   "outputs": [
    {
     "data": {
      "text/plain": [
       "6"
      ]
     },
     "execution_count": 14,
     "metadata": {},
     "output_type": "execute_result"
    }
   ],
   "source": [
    "def sum_list(lst):\n",
    "    s = 0\n",
    "    for x in lst:\n",
    "        s += x\n",
    "    return s\n",
    "\n",
    "sum_list([1,2,3]) \n"
   ]
  },
  {
   "cell_type": "markdown",
   "metadata": {},
   "source": [
    "8. Reverse string"
   ]
  },
  {
   "cell_type": "code",
   "execution_count": 15,
   "metadata": {},
   "outputs": [
    {
     "data": {
      "text/plain": [
       "'olleh'"
      ]
     },
     "execution_count": 15,
     "metadata": {},
     "output_type": "execute_result"
    }
   ],
   "source": [
    "def reverse_string(s):\n",
    "    return s[::-1]\n",
    "reverse_string(\"hello\") \n"
   ]
  },
  {
   "cell_type": "markdown",
   "metadata": {},
   "source": [
    "9. Reverse number"
   ]
  },
  {
   "cell_type": "code",
   "execution_count": 17,
   "metadata": {},
   "outputs": [
    {
     "data": {
      "text/plain": [
       "321"
      ]
     },
     "execution_count": 17,
     "metadata": {},
     "output_type": "execute_result"
    }
   ],
   "source": [
    "def reverse_number(n):\n",
    "    sign = -1 if n < 0 else 1\n",
    "    s = str(abs(n))[::-1]\n",
    "    return sign * int(s)\n",
    "\n",
    "reverse_number(123) \n"
   ]
  },
  {
   "cell_type": "markdown",
   "metadata": {},
   "source": [
    "10. Find given number is prime or not"
   ]
  },
  {
   "cell_type": "code",
   "execution_count": 16,
   "metadata": {},
   "outputs": [
    {
     "data": {
      "text/plain": [
       "True"
      ]
     },
     "execution_count": 16,
     "metadata": {},
     "output_type": "execute_result"
    }
   ],
   "source": [
    "def is_prime(n):\n",
    "    if n <= 1: return False\n",
    "    if n <= 3: return True\n",
    "    if n % 2 == 0: return False\n",
    "    i = 3\n",
    "    while i * i <= n:\n",
    "        if n % i == 0: return False\n",
    "        i += 2\n",
    "    return True\n",
    "\n",
    "is_prime(17) \n"
   ]
  },
  {
   "cell_type": "markdown",
   "metadata": {},
   "source": [
    "11. Find given value is palindrome or not (number or string)"
   ]
  },
  {
   "cell_type": "code",
   "execution_count": 18,
   "metadata": {},
   "outputs": [
    {
     "data": {
      "text/plain": [
       "True"
      ]
     },
     "execution_count": 18,
     "metadata": {},
     "output_type": "execute_result"
    }
   ],
   "source": [
    "def is_palindrome(x):\n",
    "    s = str(x)\n",
    "    return s == s[::-1]\n",
    "is_palindrome(121) \n"
   ]
  },
  {
   "cell_type": "markdown",
   "metadata": {},
   "source": [
    "12. Fibonacci series"
   ]
  },
  {
   "cell_type": "code",
   "execution_count": 19,
   "metadata": {},
   "outputs": [
    {
     "data": {
      "text/plain": [
       "[0, 1, 1, 2, 3, 5]"
      ]
     },
     "execution_count": 19,
     "metadata": {},
     "output_type": "execute_result"
    }
   ],
   "source": [
    "def fibonacci(n):\n",
    "    a, b = 0, 1\n",
    "    seq = []\n",
    "    for _ in range(n):\n",
    "        seq.append(a)\n",
    "        a, b = b, a + b\n",
    "    return seq\n",
    "\n",
    "fibonacci(6)\n"
   ]
  },
  {
   "cell_type": "markdown",
   "metadata": {},
   "source": [
    "13. Remove duplicate values in a string (keep first occurrences)"
   ]
  },
  {
   "cell_type": "code",
   "execution_count": 20,
   "metadata": {},
   "outputs": [
    {
     "data": {
      "text/plain": [
       "'ban'"
      ]
     },
     "execution_count": 20,
     "metadata": {},
     "output_type": "execute_result"
    }
   ],
   "source": [
    "def remove_dup_str(s):\n",
    "    seen = set()\n",
    "    out = []\n",
    "    for ch in s:\n",
    "        if ch not in seen:\n",
    "            seen.add(ch)\n",
    "            out.append(ch)\n",
    "    return ''.join(out)\n",
    "\n",
    "remove_dup_str(\"banana\") \n"
   ]
  },
  {
   "cell_type": "markdown",
   "metadata": {},
   "source": [
    "14. Remove duplicate values in given list (preserve order)"
   ]
  },
  {
   "cell_type": "code",
   "execution_count": 21,
   "metadata": {},
   "outputs": [
    {
     "data": {
      "text/plain": [
       "[1, 2, 3]"
      ]
     },
     "execution_count": 21,
     "metadata": {},
     "output_type": "execute_result"
    }
   ],
   "source": [
    "def remove_dup_list(lst):\n",
    "    seen = set()\n",
    "    out = []\n",
    "    for x in lst:\n",
    "        if x not in seen:\n",
    "            seen.add(x)\n",
    "            out.append(x)\n",
    "    return out\n",
    "\n",
    "remove_dup_list([1,2,1,3]) \n"
   ]
  },
  {
   "cell_type": "markdown",
   "metadata": {},
   "source": [
    "15. Between 1 to 20 sum of all even values using while loop"
   ]
  },
  {
   "cell_type": "code",
   "execution_count": 22,
   "metadata": {},
   "outputs": [
    {
     "data": {
      "text/plain": [
       "110"
      ]
     },
     "execution_count": 22,
     "metadata": {},
     "output_type": "execute_result"
    }
   ],
   "source": [
    "def sum_even_1_20():\n",
    "    i = 1\n",
    "    s = 0\n",
    "    while i <= 20:\n",
    "        if i % 2 == 0:\n",
    "            s += i\n",
    "        i += 1\n",
    "    return s\n",
    "\n",
    "sum_even_1_20() \n"
   ]
  },
  {
   "cell_type": "markdown",
   "metadata": {},
   "source": [
    "16. Between 1 to 20 sum of all odd values using while loop"
   ]
  },
  {
   "cell_type": "code",
   "execution_count": 23,
   "metadata": {},
   "outputs": [
    {
     "data": {
      "text/plain": [
       "100"
      ]
     },
     "execution_count": 23,
     "metadata": {},
     "output_type": "execute_result"
    }
   ],
   "source": [
    "def sum_odd_1_20():\n",
    "    i = 1\n",
    "    s = 0\n",
    "    while i <= 20:\n",
    "        if i % 2 != 0:\n",
    "            s += i\n",
    "        i += 1\n",
    "    return s\n",
    "\n",
    "sum_odd_1_20() \n"
   ]
  },
  {
   "cell_type": "markdown",
   "metadata": {},
   "source": [
    "17. Average of given list"
   ]
  },
  {
   "cell_type": "code",
   "execution_count": 24,
   "metadata": {},
   "outputs": [
    {
     "data": {
      "text/plain": [
       "4.0"
      ]
     },
     "execution_count": 24,
     "metadata": {},
     "output_type": "execute_result"
    }
   ],
   "source": [
    "def average(lst):\n",
    "    return sum(lst)/len(lst) if lst else 0\n",
    "\n",
    "average([2,4,6]) \n"
   ]
  },
  {
   "cell_type": "markdown",
   "metadata": {},
   "source": [
    "18. Diamond shape"
   ]
  },
  {
   "cell_type": "code",
   "execution_count": 31,
   "metadata": {},
   "outputs": [
    {
     "name": "stdout",
     "output_type": "stream",
     "text": [
      "    *\n",
      "   ***\n",
      "  *****\n",
      " *******\n",
      "*********\n",
      " *******\n",
      "  *****\n",
      "   ***\n",
      "    *\n"
     ]
    }
   ],
   "source": [
    "rows = 5\n",
    "for i in range(rows):\n",
    "    print(\" \"*(rows-i-1) + \"*\"*(2*i+1))\n",
    "for i in range(rows-2, -1, -1):\n",
    "    print(\" \"*(rows-i-1) + \"*\"*(2*i+1))"
   ]
  },
  {
   "cell_type": "markdown",
   "metadata": {},
   "source": [
    "19. Armstrong or not (for n-digit number: sum of each digit^n equals number)"
   ]
  },
  {
   "cell_type": "code",
   "execution_count": 32,
   "metadata": {},
   "outputs": [
    {
     "data": {
      "text/plain": [
       "True"
      ]
     },
     "execution_count": 32,
     "metadata": {},
     "output_type": "execute_result"
    }
   ],
   "source": [
    "def is_armstrong(n):\n",
    "    s = str(n)\n",
    "    p = len(s)\n",
    "    return n == sum(int(ch)**p for ch in s)\n",
    "is_armstrong(153) \n"
   ]
  },
  {
   "cell_type": "markdown",
   "metadata": {},
   "source": [
    "20. In between 1 to 100 how to find prime numbers"
   ]
  },
  {
   "cell_type": "code",
   "execution_count": 33,
   "metadata": {},
   "outputs": [
    {
     "data": {
      "text/plain": [
       "[2,\n",
       " 3,\n",
       " 5,\n",
       " 7,\n",
       " 11,\n",
       " 13,\n",
       " 17,\n",
       " 19,\n",
       " 23,\n",
       " 29,\n",
       " 31,\n",
       " 37,\n",
       " 41,\n",
       " 43,\n",
       " 47,\n",
       " 53,\n",
       " 59,\n",
       " 61,\n",
       " 67,\n",
       " 71,\n",
       " 73,\n",
       " 79,\n",
       " 83,\n",
       " 89,\n",
       " 97]"
      ]
     },
     "execution_count": 33,
     "metadata": {},
     "output_type": "execute_result"
    }
   ],
   "source": [
    "def primes_upto_n(n=100):\n",
    "    primes = []\n",
    "    for num in range(2, n+1):\n",
    "        is_p = True\n",
    "        for i in range(2, int(num**0.5)+1):\n",
    "            if num % i == 0:\n",
    "                is_p = False\n",
    "                break\n",
    "        if is_p:\n",
    "            primes.append(num)\n",
    "    return primes\n",
    "\n",
    "primes_upto_n()  \n"
   ]
  },
  {
   "cell_type": "markdown",
   "metadata": {},
   "source": [
    "21. Given list li=[12,11,23,43,56,45,26,9,6,7,10] — find prime numbers"
   ]
  },
  {
   "cell_type": "code",
   "execution_count": 37,
   "metadata": {},
   "outputs": [
    {
     "data": {
      "text/plain": [
       "[11, 23, 43, 7]"
      ]
     },
     "execution_count": 37,
     "metadata": {},
     "output_type": "execute_result"
    }
   ],
   "source": [
    "li=[12,11,23,43,56,45,26,9,6,7,10]\n",
    "def primes_in_list(li):\n",
    "    def prime(n):\n",
    "        if n <= 1: return False\n",
    "        if n <= 3: return True\n",
    "        if n % 2 == 0: return False\n",
    "        i = 3\n",
    "        while i * i <= n:\n",
    "            if n % i == 0: return False\n",
    "            i += 2\n",
    "        return True\n",
    "    return [x for x in li if prime(x)]\n",
    "\n",
    "primes_in_list(li)\n"
   ]
  },
  {
   "cell_type": "markdown",
   "metadata": {},
   "source": [
    "22. Factorial number"
   ]
  },
  {
   "cell_type": "code",
   "execution_count": 38,
   "metadata": {},
   "outputs": [
    {
     "data": {
      "text/plain": [
       "120"
      ]
     },
     "execution_count": 38,
     "metadata": {},
     "output_type": "execute_result"
    }
   ],
   "source": [
    "def factorial(n):\n",
    "    if n < 0: raise ValueError(\"negative\")\n",
    "    res = 1\n",
    "    for i in range(2, n+1):\n",
    "        res *= i\n",
    "    return res\n",
    "\n",
    "factorial(5) \n"
   ]
  },
  {
   "cell_type": "markdown",
   "metadata": {},
   "source": [
    "23. Find vowels in given string (list of vowels present)"
   ]
  },
  {
   "cell_type": "code",
   "execution_count": 39,
   "metadata": {},
   "outputs": [
    {
     "data": {
      "text/plain": [
       "['e', 'o']"
      ]
     },
     "execution_count": 39,
     "metadata": {},
     "output_type": "execute_result"
    }
   ],
   "source": [
    "def vowels_in_string(s):\n",
    "    return [ch for ch in s if ch.lower() in 'aeiou']\n",
    "\n",
    "vowels_in_string(\"Hello\")"
   ]
  },
  {
   "cell_type": "markdown",
   "metadata": {},
   "source": [
    "24. Count vowels in given string"
   ]
  },
  {
   "cell_type": "code",
   "execution_count": 40,
   "metadata": {},
   "outputs": [
    {
     "data": {
      "text/plain": [
       "2"
      ]
     },
     "execution_count": 40,
     "metadata": {},
     "output_type": "execute_result"
    }
   ],
   "source": [
    "def count_vowels(s):\n",
    "    return sum(1 for ch in s if ch.lower() in 'aeiou')\n",
    "\n",
    "count_vowels(\"Hello\")\n"
   ]
  },
  {
   "cell_type": "markdown",
   "metadata": {},
   "source": [
    "25. How to convert string to list"
   ]
  },
  {
   "cell_type": "code",
   "execution_count": 41,
   "metadata": {},
   "outputs": [
    {
     "data": {
      "text/plain": [
       "['hello', 'world']"
      ]
     },
     "execution_count": 41,
     "metadata": {},
     "output_type": "execute_result"
    }
   ],
   "source": [
    "# To list of characters:\n",
    "list(\"hello\")  # -> ['h','e','l','l','o']\n",
    "\n",
    "# To list of words:\n",
    "\"hello world\".split()  # -> ['hello','world']\n"
   ]
  },
  {
   "cell_type": "markdown",
   "metadata": {},
   "source": [
    "26. In given list how to find even values and odd values"
   ]
  },
  {
   "cell_type": "code",
   "execution_count": 42,
   "metadata": {},
   "outputs": [
    {
     "data": {
      "text/plain": [
       "([2, 4, 6], [1, 3, 5])"
      ]
     },
     "execution_count": 42,
     "metadata": {},
     "output_type": "execute_result"
    }
   ],
   "source": [
    "lst=[1,2,3,4,5,6]\n",
    "def evens_odds(lst):\n",
    "    evens = [x for x in lst if x % 2 == 0]\n",
    "    odds  = [x for x in lst if x % 2 != 0]\n",
    "    return evens, odds\n",
    "evens_odds(lst)\n"
   ]
  },
  {
   "cell_type": "code",
   "execution_count": null,
   "metadata": {},
   "outputs": [],
   "source": []
  }
 ],
 "metadata": {
  "kernelspec": {
   "display_name": "Python 3",
   "language": "python",
   "name": "python3"
  },
  "language_info": {
   "codemirror_mode": {
    "name": "ipython",
    "version": 3
   },
   "file_extension": ".py",
   "mimetype": "text/x-python",
   "name": "python",
   "nbconvert_exporter": "python",
   "pygments_lexer": "ipython3",
   "version": "3.12.2"
  }
 },
 "nbformat": 4,
 "nbformat_minor": 2
}
