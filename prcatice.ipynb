{
 "cells": [
  {
   "cell_type": "code",
   "execution_count": 1,
   "id": "f1761217",
   "metadata": {},
   "outputs": [
    {
     "data": {
      "text/plain": [
       "120"
      ]
     },
     "execution_count": 1,
     "metadata": {},
     "output_type": "execute_result"
    }
   ],
   "source": [
    "#factorial\n",
    "x=int(input(\"Enter a number:\"))\n",
    "Fact = 1\n",
    "for i in range(1,x+1):\n",
    "    Fact = Fact *i\n",
    "Fact"
   ]
  },
  {
   "cell_type": "code",
   "execution_count": 2,
   "id": "6d47e2c9",
   "metadata": {},
   "outputs": [
    {
     "name": "stdout",
     "output_type": "stream",
     "text": [
      "2 x 1 = 2\n",
      "2 x 2 = 4\n",
      "2 x 3 = 6\n",
      "2 x 4 = 8\n",
      "2 x 5 = 10\n",
      "2 x 6 = 12\n",
      "2 x 7 = 14\n",
      "2 x 8 = 16\n",
      "2 x 9 = 18\n",
      "2 x 10 = 20\n"
     ]
    }
   ],
   "source": [
    "#tables using for loop\n",
    "x=int(input(\"Enter a number:\"))\n",
    "for i in range(1,11):\n",
    "    print(x,\"x\",i,\"=\",x*i)"
   ]
  },
  {
   "cell_type": "code",
   "execution_count": 5,
   "id": "a6e4cf03",
   "metadata": {},
   "outputs": [
    {
     "name": "stdout",
     "output_type": "stream",
     "text": [
      "2 x 10 = 20\n",
      "2 x 9 = 18\n",
      "2 x 8 = 16\n",
      "2 x 7 = 14\n",
      "2 x 6 = 12\n",
      "2 x 5 = 10\n",
      "2 x 4 = 8\n",
      "2 x 3 = 6\n",
      "2 x 2 = 4\n",
      "2 x 1 = 2\n"
     ]
    }
   ],
   "source": [
    "#reverse tables using for loop\n",
    "x=int(input(\"Enter a number:\"))\n",
    "for i in range(10,0,-1):\n",
    "    print(x,\"x\",i,\"=\",x*i)"
   ]
  },
  {
   "cell_type": "code",
   "execution_count": 6,
   "id": "1c04557b",
   "metadata": {},
   "outputs": [
    {
     "name": "stdout",
     "output_type": "stream",
     "text": [
      "2 x 1 = 2\n",
      "2 x 2 = 4\n",
      "2 x 3 = 6\n",
      "2 x 4 = 8\n",
      "2 x 5 = 10\n",
      "2 x 6 = 12\n",
      "2 x 7 = 14\n",
      "2 x 8 = 16\n",
      "2 x 9 = 18\n",
      "2 x 10 = 20\n"
     ]
    }
   ],
   "source": [
    "#tables using while loop\n",
    "x=int(input(\"Enter a number:\"))\n",
    "i=1\n",
    "while i <11:\n",
    "    print(x,\"x\",i,\"=\",x*i)\n",
    "    i +=1"
   ]
  },
  {
   "cell_type": "code",
   "execution_count": 11,
   "id": "7d96a268",
   "metadata": {},
   "outputs": [
    {
     "name": "stdout",
     "output_type": "stream",
     "text": [
      "2 x 10 = 20\n",
      "2 x 9 = 18\n",
      "2 x 8 = 16\n",
      "2 x 7 = 14\n",
      "2 x 6 = 12\n",
      "2 x 5 = 10\n",
      "2 x 4 = 8\n",
      "2 x 3 = 6\n",
      "2 x 2 = 4\n",
      "2 x 1 = 2\n"
     ]
    }
   ],
   "source": [
    "#reverse tables using while loop\n",
    "x=int(input(\"Enter a number:\"))\n",
    "i=10\n",
    "while i>=1:\n",
    "    print(x,\"x\",i,\"=\",x*i)\n",
    "    i -=1"
   ]
  },
  {
   "cell_type": "code",
   "execution_count": 18,
   "id": "f9f4780e",
   "metadata": {},
   "outputs": [
    {
     "name": "stdout",
     "output_type": "stream",
     "text": [
      "Guess Lower than 60\n",
      "Guess Lower than 59\n",
      "Guess higher than 49\n",
      "Guess higher than 40\n",
      "Guess higher than 50\n",
      "Your guess is correct\n",
      "You took 6 attempts\n"
     ]
    }
   ],
   "source": [
    "#guessing game\n",
    "import random\n",
    "random.randint(1,100)\n",
    "jackpot = random.randint(1,100)\n",
    "\n",
    "guess = int(input(\"Guess a number\"))\n",
    "\n",
    "counter = 1\n",
    "\n",
    "while guess != jackpot:\n",
    "    if guess < jackpot:\n",
    "        print(\"Guess higher than\",guess)\n",
    "    else:\n",
    "        print(\"Guess Lower than\",guess)\n",
    "        \n",
    "    guess = int(input(\"Guess a number again\"))\n",
    "        \n",
    "    counter +=1\n",
    "\n",
    "\n",
    "print(\"Your guess is correct\")\n",
    "print(\"You took\",counter,\"attempts\")"
   ]
  },
  {
   "cell_type": "code",
   "execution_count": null,
   "id": "fd47b52f",
   "metadata": {},
   "outputs": [
    {
     "name": "stdout",
     "output_type": "stream",
     "text": [
      "Year\tpopulation\n",
      "1  \t  11000\n",
      "2  \t  12100\n",
      "3  \t  13310\n",
      "4  \t  14641\n",
      "5  \t  16105\n",
      "6  \t  17715\n",
      "7  \t  19487\n",
      "8  \t  21435\n",
      "9  \t  23579\n",
      "10  \t  25937\n"
     ]
    }
   ],
   "source": [
    "# 1. Population Growth Calculation\n",
    "\n",
    "# Initial Population: 10000\n",
    "# Growth Rate: 10% annually\n",
    "# Duration: 10 years\n",
    "\n",
    "initial_population = 10000\n",
    "growth = 0.10 #10\n",
    "year = 10\n",
    "\n",
    "print(\"Year\\tpopulation\")\n",
    "population = initial_population\n",
    "\n",
    "for year in range(1,year+1):\n",
    "    population = population + (population * growth)\n",
    "    print(year, \" \\t \", int(population))\n",
    "    "
   ]
  },
  {
   "cell_type": "code",
   "execution_count": 39,
   "id": "cfed6b4d",
   "metadata": {},
   "outputs": [
    {
     "name": "stdout",
     "output_type": "stream",
     "text": [
      "    1\n",
      "   22\n",
      "  333\n",
      " 4444\n",
      "55555\n"
     ]
    }
   ],
   "source": [
    "#right aligned triangle for numbers\n",
    "for i in range(1, 6):\n",
    "    print(\" \" * (5 - i) + str(i) * i)\n"
   ]
  },
  {
   "cell_type": "code",
   "execution_count": 55,
   "id": "0e5b77c0",
   "metadata": {},
   "outputs": [
    {
     "name": "stdout",
     "output_type": "stream",
     "text": [
      "666666\n",
      " 55555\n",
      "  4444\n",
      "   333\n",
      "    22\n",
      "     1\n"
     ]
    }
   ],
   "source": [
    "#reverse right aligned triangle for numbers\n",
    "for i in range(6,0,-1):\n",
    "    print(\" \" * (6 - i) + str(i) * i)"
   ]
  },
  {
   "cell_type": "code",
   "execution_count": 40,
   "id": "e1d9fb96",
   "metadata": {},
   "outputs": [
    {
     "name": "stdout",
     "output_type": "stream",
     "text": [
      "      *\n",
      "     **\n",
      "    ***\n",
      "   ****\n",
      "  *****\n"
     ]
    }
   ],
   "source": [
    "#right aligned triangle for stars\n",
    "\n",
    "for i in range(1, 6):\n",
    "    print(\" \" * (x - i) + \"*\" * i)\n"
   ]
  },
  {
   "cell_type": "code",
   "execution_count": 57,
   "id": "a83697b7",
   "metadata": {},
   "outputs": [
    {
     "name": "stdout",
     "output_type": "stream",
     "text": [
      " ******\n",
      "  *****\n",
      "   ****\n",
      "    ***\n",
      "     **\n",
      "      *\n"
     ]
    }
   ],
   "source": [
    "#reverse right aligned triangle for stars\n",
    "\n",
    "for i in range(6,0,-1):\n",
    "    print(\" \" * (x - i) + \"*\" * i)"
   ]
  },
  {
   "cell_type": "code",
   "execution_count": 44,
   "id": "81e6f60e",
   "metadata": {},
   "outputs": [
    {
     "name": "stdout",
     "output_type": "stream",
     "text": [
      "    1 \n",
      "   2 2 \n",
      "  3 3 3 \n",
      " 4 4 4 4 \n",
      "5 5 5 5 5 \n"
     ]
    }
   ],
   "source": [
    "#numbers triangle\n",
    "for i in range(1,6):\n",
    "    print(\" \" * (5-i)+(str(i)+\" \")*i)"
   ]
  },
  {
   "cell_type": "code",
   "execution_count": 50,
   "id": "50300a44",
   "metadata": {},
   "outputs": [
    {
     "name": "stdout",
     "output_type": "stream",
     "text": [
      "    * \n",
      "   * * \n",
      "  * * * \n",
      " * * * * \n",
      "* * * * * \n"
     ]
    }
   ],
   "source": [
    "#stars triangle\n",
    "for i in range(1,6):\n",
    "    print(\" \" * (5-i)+\"* \" * i)"
   ]
  },
  {
   "cell_type": "code",
   "execution_count": 52,
   "id": "d1baf950",
   "metadata": {},
   "outputs": [
    {
     "name": "stdout",
     "output_type": "stream",
     "text": [
      "6 6 6 6 6 6 \n",
      " 5 5 5 5 5 \n",
      "  4 4 4 4 \n",
      "   3 3 3 \n",
      "    2 2 \n",
      "     1 \n"
     ]
    }
   ],
   "source": [
    "#reverse numbers triangle\n",
    "for i in range(6,0,-1):\n",
    "    print(\" \" * (6-i)+(str(i)+\" \")*i)"
   ]
  },
  {
   "cell_type": "code",
   "execution_count": 53,
   "id": "bf06b38a",
   "metadata": {},
   "outputs": [
    {
     "name": "stdout",
     "output_type": "stream",
     "text": [
      "* * * * * * \n",
      " * * * * * \n",
      "  * * * * \n",
      "   * * * \n",
      "    * * \n",
      "     * \n"
     ]
    }
   ],
   "source": [
    "#reverse stars triangle\n",
    "for i in range(6,0,-1):\n",
    "    print(\" \" * (6-i)+\"* \"*i)"
   ]
  },
  {
   "cell_type": "code",
   "execution_count": 61,
   "id": "b5c84bb4",
   "metadata": {},
   "outputs": [
    {
     "name": "stdout",
     "output_type": "stream",
     "text": [
      "    1 \n",
      "   2 2 \n",
      "  3 3 3 \n",
      " 4 4 4 4 \n",
      "5 5 5 5 5 \n",
      " 4 4 4 4 \n",
      "  3 3 3 \n",
      "   2 2 \n",
      "    1 \n"
     ]
    }
   ],
   "source": [
    "#diamond shape\n",
    "n = 5\n",
    "\n",
    "# Upper half\n",
    "for i in range(1, n + 1):\n",
    "    print(\" \" * (n - i) +(str(i)+\" \") * i)\n",
    "\n",
    "# Lower half\n",
    "for i in range(n - 1, 0, -1):\n",
    "    print(\" \" * (n - i) +(str(i)+\" \") * i)\n"
   ]
  },
  {
   "cell_type": "code",
   "execution_count": 58,
   "id": "9137e49a",
   "metadata": {},
   "outputs": [
    {
     "name": "stdout",
     "output_type": "stream",
     "text": [
      "    * \n",
      "   * * \n",
      "  * * * \n",
      " * * * * \n",
      "* * * * * \n",
      " * * * * \n",
      "  * * * \n",
      "   * * \n",
      "    * \n"
     ]
    }
   ],
   "source": [
    "# diamond shape\n",
    "n = 5\n",
    "\n",
    "# Upper half\n",
    "for i in range(1, n + 1):\n",
    "    print(\" \" * (n - i) + \"* \" * i)\n",
    "\n",
    "# Lower half\n",
    "for i in range(n - 1, 0, -1):\n",
    "    print(\" \" * (n - i) + \"* \" * i)\n"
   ]
  },
  {
   "cell_type": "code",
   "execution_count": 62,
   "id": "abbc0899",
   "metadata": {},
   "outputs": [
    {
     "name": "stdout",
     "output_type": "stream",
     "text": [
      "dad  is palindrome\n"
     ]
    }
   ],
   "source": [
    "#palidrome or not\n",
    "x=input(\"Enter a string: \")\n",
    "if x == x[::-1]:\n",
    "    print(x,\" is palindrome\")\n",
    "else:\n",
    "     print(x,\"is not palindrome\")"
   ]
  },
  {
   "cell_type": "code",
   "execution_count": 63,
   "id": "fa7107d3",
   "metadata": {},
   "outputs": [
    {
     "name": "stdout",
     "output_type": "stream",
     "text": [
      "0\n",
      "1\n",
      "1\n",
      "2\n",
      "3\n",
      "5\n",
      "8\n",
      "13\n",
      "21\n"
     ]
    }
   ],
   "source": [
    "#fibanocci series\n",
    "n1=0\n",
    "n2=1\n",
    "#n3=?\n",
    "\n",
    "for i in range(1,10):\n",
    "    print(n1)\n",
    "    n3=n1+n2\n",
    "    n1=n2\n",
    "    n2=n3"
   ]
  },
  {
   "cell_type": "code",
   "execution_count": 80,
   "id": "a47eaa69",
   "metadata": {},
   "outputs": [
    {
     "name": "stdout",
     "output_type": "stream",
     "text": [
      "9 Not prime\n"
     ]
    }
   ],
   "source": [
    "#prime or not\n",
    "n = int(input(\"Enter a number: \"))\n",
    "if n < 2:\n",
    "    print(n,\"Not prime\")\n",
    "else:\n",
    "    for i in range(2, int(n ** 0.5) + 1):\n",
    "        if n % i == 0:\n",
    "            print(n,\"Not prime\")\n",
    "            break\n",
    "    else:\n",
    "        print(n,\"Prime\")\n"
   ]
  },
  {
   "cell_type": "code",
   "execution_count": 85,
   "id": "1092b119",
   "metadata": {},
   "outputs": [
    {
     "name": "stdout",
     "output_type": "stream",
     "text": [
      "1 is not prime\n",
      "23 is prime\n",
      "4 is not prime\n",
      "56 is not prime\n",
      "78 is not prime\n",
      "53 is prime\n",
      "98 is not prime\n",
      "25 is not prime\n",
      "45 is not prime\n"
     ]
    }
   ],
   "source": [
    "x=[1,23,4,56,78,53,98,25,45]\n",
    "for num in x:\n",
    "    if num<2:\n",
    "        print(num,\"is not prime\")\n",
    "    else:\n",
    "        for i in range(2,int(num**0.5)+1):\n",
    "            if num%i==0:\n",
    "                print(num,\"is not prime\")\n",
    "                break\n",
    "        else:\n",
    "            print(num,\"is prime\") \n",
    "    \n",
    "          "
   ]
  },
  {
   "cell_type": "code",
   "execution_count": 86,
   "id": "32e92def",
   "metadata": {},
   "outputs": [
    {
     "name": "stdout",
     "output_type": "stream",
     "text": [
      "2 is prime\n",
      "3 is prime\n",
      "5 is prime\n",
      "7 is prime\n",
      "11 is prime\n",
      "13 is prime\n",
      "17 is prime\n",
      "19 is prime\n",
      "23 is prime\n",
      "29 is prime\n",
      "31 is prime\n",
      "37 is prime\n",
      "41 is prime\n",
      "43 is prime\n",
      "47 is prime\n",
      "53 is prime\n",
      "59 is prime\n",
      "61 is prime\n",
      "67 is prime\n",
      "71 is prime\n",
      "73 is prime\n",
      "79 is prime\n",
      "83 is prime\n",
      "89 is prime\n",
      "97 is prime\n"
     ]
    }
   ],
   "source": [
    "for num in range(1,101):\n",
    "    if num < 2 :\n",
    "        continue\n",
    "    for i in range(2,num):\n",
    "        if num%i==0:\n",
    "            break\n",
    "    else:\n",
    "        print(num,\"is prime\")\n",
    "\n"
   ]
  },
  {
   "cell_type": "code",
   "execution_count": 89,
   "id": "fccfb6a2",
   "metadata": {},
   "outputs": [
    {
     "name": "stdout",
     "output_type": "stream",
     "text": [
      "7 x 1 = 7\n",
      "7 x 2 = 14\n",
      "7 x 3 = 21\n",
      "7 x 4 = 28\n",
      "7 x 5 = 35\n",
      "7 x 6 = 42\n",
      "7 x 7 = 49\n",
      "7 x 8 = 56\n",
      "7 x 9 = 63\n",
      "7 x 10 = 70\n"
     ]
    }
   ],
   "source": [
    "def table(x):\n",
    "    for i in range(1,11):\n",
    "        print(x,\"x\",i,\"=\",x*i)\n",
    "\n",
    "table(7)"
   ]
  },
  {
   "cell_type": "code",
   "execution_count": 103,
   "id": "9f772842",
   "metadata": {},
   "outputs": [
    {
     "data": {
      "text/plain": [
       "30"
      ]
     },
     "execution_count": 103,
     "metadata": {},
     "output_type": "execute_result"
    }
   ],
   "source": [
    "def factorial(n):\n",
    "    if n ==1 or n==1:\n",
    "        return 1\n",
    "    return n *(n-1)\n",
    "\n",
    "factorial(6)\n",
    "        "
   ]
  },
  {
   "cell_type": "code",
   "execution_count": 95,
   "id": "e5cbb135",
   "metadata": {},
   "outputs": [
    {
     "name": "stdout",
     "output_type": "stream",
     "text": [
      "palindrome\n"
     ]
    }
   ],
   "source": [
    "\n",
    "   #palindrome \n",
    "def palin(text):\n",
    "    if len(text)==1:\n",
    "        print(\"palindrome\") \n",
    "    elif text[0]==text[-1]:\n",
    "        palin(text[1:-1])\n",
    "    else:\n",
    "        print(\"not a palindrome\")\n",
    "            \n",
    "palin(\"madam\")"
   ]
  },
  {
   "cell_type": "code",
   "execution_count": 104,
   "id": "0d24a165",
   "metadata": {},
   "outputs": [
    {
     "name": "stdout",
     "output_type": "stream",
     "text": [
      "120\n"
     ]
    }
   ],
   "source": [
    "#Factorial  recursion\n",
    "def fact(number):\n",
    "    if number==1:\n",
    "        return 1\n",
    "    else:\n",
    "        return number * fact(number -1)\n",
    "print(fact(5))"
   ]
  },
  {
   "cell_type": "code",
   "execution_count": null,
   "id": "c9cc2036",
   "metadata": {},
   "outputs": [],
   "source": [
    "from flask import Flask\n",
    "\n",
    "app = Flask(__name__)\n",
    "\n",
    "@app.route('/')\n",
    "def home():\n",
    "    return \"Hello, Flask!\"\n",
    "\n",
    "if __name__ == '__main__':\n",
    "    app.run(debug=True)\n"
   ]
  },
  {
   "cell_type": "code",
   "execution_count": 112,
   "id": "491d9f16",
   "metadata": {},
   "outputs": [
    {
     "name": "stdout",
     "output_type": "stream",
     "text": [
      "Name : santosh\n",
      "You not eligible to vote 22\n",
      "You are male\n"
     ]
    }
   ],
   "source": [
    "class person:\n",
    "    def __init__(self,name,age,gender):\n",
    "        self.a=name\n",
    "        self.b=age\n",
    "        self.c=gender\n",
    "    def data(self):\n",
    "        print(\"Name :\",self.a)\n",
    "    def vote(self):\n",
    "        if self.b<18:\n",
    "            print(\"You are not eligible to vote\",self.b)\n",
    "            print(\"You are\",self.c)\n",
    "        else:\n",
    "            print(\"You not eligible to vote\",self.b)\n",
    "            print(\"You are\",self.c)\n",
    "            \n",
    "a=person(\"santosh\",22,\"male\")\n",
    "a.data()\n",
    "a.vote()"
   ]
  },
  {
   "cell_type": "code",
   "execution_count": null,
   "id": "b61a8b9e",
   "metadata": {},
   "outputs": [],
   "source": []
  }
 ],
 "metadata": {
  "kernelspec": {
   "display_name": "Python 3",
   "language": "python",
   "name": "python3"
  },
  "language_info": {
   "codemirror_mode": {
    "name": "ipython",
    "version": 3
   },
   "file_extension": ".py",
   "mimetype": "text/x-python",
   "name": "python",
   "nbconvert_exporter": "python",
   "pygments_lexer": "ipython3",
   "version": "3.12.2"
  }
 },
 "nbformat": 4,
 "nbformat_minor": 5
}
